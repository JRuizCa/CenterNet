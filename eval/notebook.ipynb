{
 "cells": [
  {
   "cell_type": "code",
   "execution_count": 17,
   "metadata": {},
   "outputs": [],
   "source": [
    "import pandas as pd\n",
    "import json\n",
    "import numpy as np"
   ]
  },
  {
   "cell_type": "code",
   "execution_count": 18,
   "metadata": {},
   "outputs": [],
   "source": [
    "results_json = '/home/julia/TFM/CenterNet/data/barcode/annotations/results.json'"
   ]
  },
  {
   "cell_type": "code",
   "execution_count": 19,
   "metadata": {},
   "outputs": [],
   "source": [
    "with open(results_json) as json_file:\n",
    "    data = json.load(json_file)\n",
    "data = pd.DataFrame(data)"
   ]
  },
  {
   "cell_type": "code",
   "execution_count": 20,
   "metadata": {},
   "outputs": [],
   "source": [
    "data['bbox'] = data['bbox'].apply(lambda x: [x[0], x[1], np.round(x[0]+x[2], 3), np.round(x[1]+x[3], 3)])\n",
    "data['category_id'] = data['category_id'].apply(lambda x: 'barcode')\n",
    "data.set_index('image_id', inplace=True)\n",
    "for index in data.index.unique():\n",
    "    with open(f'./{index}.txt', 'w') as txt_file:\n",
    "        for i in range(len(data[data.index == index])):\n",
    "            data_index = data[data.index == index]\n",
    "            txt_file.write(f\"barcode \")\n",
    "            txt_file.write(f\"{data_index['score'].iloc[i]} \")\n",
    "            txt_file.write(f\"{data_index['bbox'].iloc[i][0]} {data_index['bbox'].iloc[i][1]} {data_index['bbox'].iloc[i][2]} {data_index['bbox'].iloc[i][3]} \")\n",
    "            txt_file.write(\"\\n\")\n",
    "    txt_file.close()"
   ]
  }
 ],
 "metadata": {
  "kernelspec": {
   "display_name": "Yolo-to-COCO",
   "language": "python",
   "name": "python3"
  },
  "language_info": {
   "codemirror_mode": {
    "name": "ipython",
    "version": 3
   },
   "file_extension": ".py",
   "mimetype": "text/x-python",
   "name": "python",
   "nbconvert_exporter": "python",
   "pygments_lexer": "ipython3",
   "version": "3.10.10"
  },
  "orig_nbformat": 4
 },
 "nbformat": 4,
 "nbformat_minor": 2
}
