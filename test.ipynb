{
 "cells": [
  {
   "cell_type": "code",
   "execution_count": null,
   "metadata": {},
   "outputs": [],
   "source": [
    "import math\n",
    "import cv2\n",
    "import numpy as np"
   ]
  },
  {
   "cell_type": "code",
   "execution_count": null,
   "metadata": {},
   "outputs": [],
   "source": [
    "image = cv2.imread('/home/julia/TFM/CenterNet/models/2.jpg')\n",
    "window_size = 512"
   ]
  },
  {
   "cell_type": "code",
   "execution_count": null,
   "metadata": {},
   "outputs": [],
   "source": [
    "def crop_image_sliding_window(image, overlap_degree=0.3, window_size=512):\n",
    "  height, width = image.shape[0:2]\n",
    "  overlap = math.ceil(window_size * overlap_degree)\n",
    "  step = window_size - overlap\n",
    "  \n",
    "  for y in range(0, height, step):\n",
    "    for x in range(0, width, step):    \n",
    "      y2 = y + window_size\n",
    "      x2 = x + window_size\n",
    "      zeros_image = np.zeros([window_size, window_size, 3], dtype=np.uint8)\n",
    "      if y2 > height:\n",
    "        y2 = height\n",
    "      if x2 > width:\n",
    "        x2 = width\n",
    "      cropped_image = image[y:y2, x:x2]\n",
    "      result_image = zeros_image.copy()\n",
    "      result_image[:cropped_image.shape[0], :cropped_image.shape[1], :] = cropped_image\n",
    "      yield (x, x2, y, y2, result_image)"
   ]
  },
  {
   "cell_type": "code",
   "execution_count": null,
   "metadata": {},
   "outputs": [],
   "source": [
    "# crop numpy images with sliding window\n",
    "\n",
    "image = cv2.imread('/home/julia/TFM/CenterNet/data/barcode/test/2.jpg')\n",
    "for (x1, x2, y1, y2, cropped_image) in crop_image_sliding_window(image):\n",
    "    cv2.imshow('cropped_image', cropped_image)\n",
    "    cv2.waitKey(0)\n",
    "    print('bbox: ', x1, x2, y1, y2)\n",
    "\n",
    "# cv2.destroyAllWindows"
   ]
  },
  {
   "cell_type": "code",
   "execution_count": null,
   "metadata": {},
   "outputs": [],
   "source": [
    "def crop_image_sliding_window(image, window_size=512):\n",
    "  height, width = image.shape[0:2]\n",
    "  y_windows = height/window_size # 3\n",
    "  x_windows = width/window_size\n",
    "\n",
    "  round_y_windows = math.floor(y_windows + 1) # 4\n",
    "  round_x_windows = math.floor(x_windows + 1)\n",
    "  step_size_y = (round_y_windows - y_windows ) * window_size # 512\n",
    "  step_size_x = (round_x_windows - x_windows) * window_size\n",
    "\n",
    "  step_size_y = math.ceil(step_size_y/math.floor(y_windows)) # 170\n",
    "  step_size_x = math.ceil(step_size_x/math.floor(x_windows)) # 128\n",
    "  \n",
    "  y1 = 0\n",
    "  x1 = 0\n",
    "  for y in range(0, round_y_windows):\n",
    "    prev_y = y1 + window_size\n",
    "    for x in range(0, round_x_windows):\n",
    "      prev_x = x1 + window_size\n",
    "      if x == 0 and y == 0:\n",
    "        y2 = y1 + window_size\n",
    "        x2 = x1 + window_size\n",
    "        cropped_image = image[y1:y2, x1:x2]\n",
    "      elif x != 0 and y != 0:\n",
    "        y1 = prev_y - step_size_y\n",
    "        x1 = prev_x - step_size_x\n",
    "        y2 = y1 + window_size\n",
    "        x2 = x1 + window_size\n",
    "        cropped_image = image[y1:y2, x1:x2]\n",
    "      elif x == 0:\n",
    "        y1 = prev_y - step_size_y\n",
    "        x1 = 0\n",
    "        y2 = y1 + window_size\n",
    "        x2 = x1 + window_size       \n",
    "        cropped_image = image[y1:y2, x1:x2]\n",
    "      else:\n",
    "        y1 = 0\n",
    "        x1 = prev_x - step_size_x\n",
    "        y2 = y1 + window_size\n",
    "        x2 = x1 + window_size\n",
    "        cropped_image = image[y1:y2, x1:x2]\n",
    "      yield (x1, x2, y1, y2, cropped_image) "
   ]
  }
 ],
 "metadata": {
  "kernelspec": {
   "display_name": "CenterNet",
   "language": "python",
   "name": "python3"
  },
  "language_info": {
   "codemirror_mode": {
    "name": "ipython",
    "version": 3
   },
   "file_extension": ".py",
   "mimetype": "text/x-python",
   "name": "python",
   "nbconvert_exporter": "python",
   "pygments_lexer": "ipython3",
   "version": "3.8.16"
  },
  "orig_nbformat": 4
 },
 "nbformat": 4,
 "nbformat_minor": 2
}
